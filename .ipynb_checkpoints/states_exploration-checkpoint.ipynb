{
 "cells": [
  {
   "cell_type": "code",
   "execution_count": 2,
   "metadata": {},
   "outputs": [
    {
     "name": "stdout",
     "output_type": "stream",
     "text": [
      "Starting virtual X frame buffer: Xvfb.\n",
      "env: DISPLAY=: 1\n"
     ]
    }
   ],
   "source": [
    "import os\n",
    "if type(os.environ.get(\"DISPLAY\")) is not str or len(os.environ.get(\"DISPLAY\")) == 0:\n",
    "    !bash ../xvfb start\n",
    "    %env DISPLAY = : 1"
   ]
  },
  {
   "cell_type": "code",
   "execution_count": 1,
   "metadata": {
    "collapsed": true
   },
   "outputs": [],
   "source": [
    "import gym\n",
    "import numpy as np\n",
    "import pandas as pd\n",
    "import matplotlib.pyplot as plt\n",
    "%matplotlib inline\n",
    "import math\n",
    "import random\n",
    "from collections import namedtuple\n",
    "from itertools import count\n",
    "from PIL import Image\n",
    "import os\n",
    "import time\n",
    "\n",
    "import torch\n",
    "import torch.nn as nn\n",
    "import torch.optim as optim\n",
    "import torch.nn.functional as F\n",
    "import torchvision.transforms as T"
   ]
  },
  {
   "cell_type": "markdown",
   "metadata": {},
   "source": [
    "## TODO"
   ]
  },
  {
   "cell_type": "markdown",
   "metadata": {},
   "source": [
    "    get env states from img"
   ]
  },
  {
   "cell_type": "code",
   "execution_count": 4,
   "metadata": {
    "scrolled": true
   },
   "outputs": [
    {
     "data": {
      "image/png": "[encoded data removed]",
      "text/plain": [
       "<Figure size 432x288 with 1 Axes>"
      ]
     },
     "metadata": {},
     "output_type": "display_data"
    }
   ],
   "source": [
    "# if you see \"<classname> has no attribute .env\", remove .env or update gym\n",
    "env = gym.make(\"LunarLander-v2\").env\n",
    "\n",
    "env.reset()\n",
    "n_actions = env.action_space.n\n",
    "\n",
    "plt.imshow(env.render(\"rgb_array\"));"
   ]
  },
  {
   "cell_type": "code",
   "execution_count": 9,
   "metadata": {
    "collapsed": true
   },
   "outputs": [],
   "source": [
    "s = env.render(mode='rgb_array')"
   ]
  },
  {
   "cell_type": "code",
   "execution_count": 10,
   "metadata": {},
   "outputs": [
    {
     "data": {
      "image/png": "[encoded data removed]",
      "text/plain": [
       "<Figure size 432x288 with 1 Axes>"
      ]
     },
     "metadata": {},
     "output_type": "display_data"
    }
   ],
   "source": [
    "resize = T.Compose([T.ToPILImage(),\n",
    "                    T.Resize(65, interpolation=Image.CUBIC),\n",
    "                    T.ToTensor()])\n",
    "\n",
    "\n",
    "def get_lander_location(screen, last_X, last_Y):    \n",
    "    R = screen[0]\n",
    "    G = screen[1]\n",
    "    B = screen[2]\n",
    "    line = 0\n",
    "    coоrdinates = [[],[]]\n",
    "    for line_r, line_g, line_b in zip(R, G, B):\n",
    "        line += 1\n",
    "        column = 0\n",
    "        for pixel_r, pixel_g, pixel_b in zip(line_r, line_g, line_b):\n",
    "            column +=1\n",
    "            if  (round(pixel_r.item(),1) == 0.5) & (round(pixel_g.item(),1) == 0.4) & (round(pixel_b.item(),1) == 0.9):\n",
    "                coоrdinates[0].append(line)\n",
    "                coоrdinates[1].append(column)\n",
    "    if(len(coоrdinates)>0):\n",
    "        if(not np.isnan(np.array(coоrdinates[0]).mean())):\n",
    "            Y = int(np.array(coоrdinates[0]).mean())\n",
    "            X = int(np.array(coоrdinates[1]).mean())\n",
    "            out_of_screen = False\n",
    "        else:\n",
    "            X = last_X\n",
    "            Y = last_Y\n",
    "            out_of_screen = True\n",
    "    else:\n",
    "        X = last_X\n",
    "        Y = last_Y\n",
    "        out_of_screen = True\n",
    "    return (X, Y, out_of_screen)\n",
    "\n",
    "def get_screen(last_X, last_Y):\n",
    "    \n",
    "    screen = s.transpose((2, 0, 1))\n",
    "    \n",
    "    \n",
    "    # Convert to float, rescale, convert to torch tensor\n",
    "    # (this doesn't require a copy)\n",
    "    # Resize, and add a batch dimension (BCHW)\n",
    "    \n",
    "    screen = np.ascontiguousarray(screen, dtype=np.float32) / 255\n",
    "    screen = torch.from_numpy(screen)\n",
    "    screen = resize(screen)\n",
    "    \n",
    "    _, screen_height, screen_width = screen.shape\n",
    "    screen = screen[:, :int(screen_height * 0.8)]\n",
    "    _, screen_height, screen_width = screen.shape\n",
    "    \n",
    "    X, Y , out_of_screen = get_lander_location(screen, last_X, last_Y)\n",
    "\n",
    "    if(X<24):\n",
    "        slice_width = slice(None,48)\n",
    "    elif(X>(screen_width-24)):\n",
    "        slice_width = slice(48,96)\n",
    "    else:\n",
    "        slice_width = slice(X-24,X+24)\n",
    "        \n",
    "    screen = screen[:, :, slice_width]\n",
    "    \n",
    "    return (screen.unsqueeze(0), X, Y, out_of_screen)\n",
    "\n",
    "\n",
    "env.reset()\n",
    "\n",
    "screen, last_X, last_Y, out_of_screen = get_screen(0, 0)\n",
    "plt.figure()\n",
    "plt.imshow(screen.cpu().squeeze(0).permute(1, 2, 0).numpy(),\n",
    "           interpolation='none')\n",
    "plt.title('Example extracted screen')\n",
    "plt.show()"
   ]
  },
  {
   "cell_type": "code",
   "execution_count": null,
   "metadata": {
    "collapsed": true
   },
   "outputs": [],
   "source": []
  }
 ],
 "metadata": {
  "kernelspec": {
   "display_name": "Python 3",
   "language": "python",
   "name": "python3"
  },
  "language_info": {
   "codemirror_mode": {
    "name": "ipython",
    "version": 3
   },
   "file_extension": ".py",
   "mimetype": "text/x-python",
   "name": "python",
   "nbconvert_exporter": "python",
   "pygments_lexer": "ipython3",
   "version": "3.6.6"
  }
 },
 "nbformat": 4,
 "nbformat_minor": 2
}
